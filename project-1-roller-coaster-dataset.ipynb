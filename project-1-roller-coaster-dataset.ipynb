{
 "cells": [
  {
   "cell_type": "markdown",
   "id": "b92e71b7",
   "metadata": {
    "papermill": {
     "duration": 0.004563,
     "end_time": "2025-07-21T18:52:00.966696",
     "exception": false,
     "start_time": "2025-07-21T18:52:00.962133",
     "status": "completed"
    },
    "tags": []
   },
   "source": [
    "# Project 1 : EDA using Python\n",
    "\n",
    "## Libraries Used\n",
    "* Pandas\n",
    "* Numpy\n",
    "* Matplotlib\n",
    "* Seaborn\n",
    "\n",
    "Input Dataset: 1000 Rows\n"
   ]
  },
  {
   "cell_type": "markdown",
   "id": "e98359f8",
   "metadata": {
    "papermill": {
     "duration": 0.003448,
     "end_time": "2025-07-21T18:52:00.974215",
     "exception": false,
     "start_time": "2025-07-21T18:52:00.970767",
     "status": "completed"
    },
    "tags": []
   },
   "source": [
    "## Step 1: Importing Libraries & Fetching Data"
   ]
  },
  {
   "cell_type": "code",
   "execution_count": 1,
   "id": "44a4f36b",
   "metadata": {
    "execution": {
     "iopub.execute_input": "2025-07-21T18:52:00.982858Z",
     "iopub.status.busy": "2025-07-21T18:52:00.982531Z",
     "iopub.status.idle": "2025-07-21T18:52:04.843230Z",
     "shell.execute_reply": "2025-07-21T18:52:04.842279Z"
    },
    "papermill": {
     "duration": 3.867231,
     "end_time": "2025-07-21T18:52:04.845235",
     "exception": false,
     "start_time": "2025-07-21T18:52:00.978004",
     "status": "completed"
    },
    "tags": []
   },
   "outputs": [],
   "source": [
    "import pandas as pd\n",
    "import numpy as np\n",
    "import matplotlib.pylab as plt\n",
    "import seaborn as sbn\n",
    "import warnings\n",
    "\n",
    "plt.style.use('ggplot')\n",
    "# pd.set_option('max_columns', 200)\n",
    "warnings.filterwarnings(\"ignore\", category=RuntimeWarning)"
   ]
  },
  {
   "cell_type": "code",
   "execution_count": 2,
   "id": "663dc9ee",
   "metadata": {
    "execution": {
     "iopub.execute_input": "2025-07-21T18:52:04.856424Z",
     "iopub.status.busy": "2025-07-21T18:52:04.855997Z",
     "iopub.status.idle": "2025-07-21T18:52:04.909723Z",
     "shell.execute_reply": "2025-07-21T18:52:04.908745Z"
    },
    "papermill": {
     "duration": 0.060059,
     "end_time": "2025-07-21T18:52:04.911356",
     "exception": false,
     "start_time": "2025-07-21T18:52:04.851297",
     "status": "completed"
    },
    "tags": []
   },
   "outputs": [],
   "source": [
    "df = pd.read_csv('/kaggle/input/roller-coaster-dataset/coaster_db.csv')"
   ]
  },
  {
   "cell_type": "markdown",
   "id": "4573256c",
   "metadata": {
    "papermill": {
     "duration": 0.003432,
     "end_time": "2025-07-21T18:52:04.918689",
     "exception": false,
     "start_time": "2025-07-21T18:52:04.915257",
     "status": "completed"
    },
    "tags": []
   },
   "source": [
    "## Step 1: Data Understanding\n",
    "\n",
    "* Dataframe shape\n",
    "* head() and tail()\n",
    "* dtypes\n",
    "* describe()\n",
    "* info()"
   ]
  },
  {
   "cell_type": "code",
   "execution_count": 3,
   "id": "b7a60d77",
   "metadata": {
    "execution": {
     "iopub.execute_input": "2025-07-21T18:52:04.928374Z",
     "iopub.status.busy": "2025-07-21T18:52:04.927503Z",
     "iopub.status.idle": "2025-07-21T18:52:04.975680Z",
     "shell.execute_reply": "2025-07-21T18:52:04.974911Z"
    },
    "papermill": {
     "duration": 0.05429,
     "end_time": "2025-07-21T18:52:04.977218",
     "exception": false,
     "start_time": "2025-07-21T18:52:04.922928",
     "status": "completed"
    },
    "tags": []
   },
   "outputs": [
    {
     "data": {
      "text/html": [
       "<div>\n",
       "<style scoped>\n",
       "    .dataframe tbody tr th:only-of-type {\n",
       "        vertical-align: middle;\n",
       "    }\n",
       "\n",
       "    .dataframe tbody tr th {\n",
       "        vertical-align: top;\n",
       "    }\n",
       "\n",
       "    .dataframe thead th {\n",
       "        text-align: right;\n",
       "    }\n",
       "</style>\n",
       "<table border=\"1\" class=\"dataframe\">\n",
       "  <thead>\n",
       "    <tr style=\"text-align: right;\">\n",
       "      <th></th>\n",
       "      <th>Inversions</th>\n",
       "      <th>year_introduced</th>\n",
       "      <th>latitude</th>\n",
       "      <th>longitude</th>\n",
       "      <th>speed1_value</th>\n",
       "      <th>speed_mph</th>\n",
       "      <th>height_value</th>\n",
       "      <th>height_ft</th>\n",
       "      <th>Inversions_clean</th>\n",
       "      <th>Gforce_clean</th>\n",
       "    </tr>\n",
       "  </thead>\n",
       "  <tbody>\n",
       "    <tr>\n",
       "      <th>count</th>\n",
       "      <td>932.000000</td>\n",
       "      <td>1087.000000</td>\n",
       "      <td>812.000000</td>\n",
       "      <td>812.000000</td>\n",
       "      <td>937.000000</td>\n",
       "      <td>937.000000</td>\n",
       "      <td>965.000000</td>\n",
       "      <td>171.000000</td>\n",
       "      <td>1087.000000</td>\n",
       "      <td>362.000000</td>\n",
       "    </tr>\n",
       "    <tr>\n",
       "      <th>mean</th>\n",
       "      <td>1.547210</td>\n",
       "      <td>1994.986201</td>\n",
       "      <td>38.373484</td>\n",
       "      <td>-41.595373</td>\n",
       "      <td>53.850374</td>\n",
       "      <td>48.617289</td>\n",
       "      <td>89.575171</td>\n",
       "      <td>101.996491</td>\n",
       "      <td>1.326587</td>\n",
       "      <td>3.824006</td>\n",
       "    </tr>\n",
       "    <tr>\n",
       "      <th>std</th>\n",
       "      <td>2.114073</td>\n",
       "      <td>23.475248</td>\n",
       "      <td>15.516596</td>\n",
       "      <td>72.285227</td>\n",
       "      <td>23.385518</td>\n",
       "      <td>16.678031</td>\n",
       "      <td>136.246444</td>\n",
       "      <td>67.329092</td>\n",
       "      <td>2.030854</td>\n",
       "      <td>0.989998</td>\n",
       "    </tr>\n",
       "    <tr>\n",
       "      <th>min</th>\n",
       "      <td>0.000000</td>\n",
       "      <td>1884.000000</td>\n",
       "      <td>-48.261700</td>\n",
       "      <td>-123.035700</td>\n",
       "      <td>5.000000</td>\n",
       "      <td>5.000000</td>\n",
       "      <td>4.000000</td>\n",
       "      <td>13.100000</td>\n",
       "      <td>0.000000</td>\n",
       "      <td>0.800000</td>\n",
       "    </tr>\n",
       "    <tr>\n",
       "      <th>25%</th>\n",
       "      <td>0.000000</td>\n",
       "      <td>1989.000000</td>\n",
       "      <td>35.031050</td>\n",
       "      <td>-84.552200</td>\n",
       "      <td>40.000000</td>\n",
       "      <td>37.300000</td>\n",
       "      <td>44.000000</td>\n",
       "      <td>51.800000</td>\n",
       "      <td>0.000000</td>\n",
       "      <td>3.400000</td>\n",
       "    </tr>\n",
       "    <tr>\n",
       "      <th>50%</th>\n",
       "      <td>0.000000</td>\n",
       "      <td>2000.000000</td>\n",
       "      <td>40.289800</td>\n",
       "      <td>-76.653600</td>\n",
       "      <td>50.000000</td>\n",
       "      <td>49.700000</td>\n",
       "      <td>79.000000</td>\n",
       "      <td>91.200000</td>\n",
       "      <td>0.000000</td>\n",
       "      <td>4.000000</td>\n",
       "    </tr>\n",
       "    <tr>\n",
       "      <th>75%</th>\n",
       "      <td>3.000000</td>\n",
       "      <td>2010.000000</td>\n",
       "      <td>44.799600</td>\n",
       "      <td>2.778100</td>\n",
       "      <td>63.000000</td>\n",
       "      <td>58.000000</td>\n",
       "      <td>113.000000</td>\n",
       "      <td>131.200000</td>\n",
       "      <td>2.000000</td>\n",
       "      <td>4.500000</td>\n",
       "    </tr>\n",
       "    <tr>\n",
       "      <th>max</th>\n",
       "      <td>14.000000</td>\n",
       "      <td>2022.000000</td>\n",
       "      <td>63.230900</td>\n",
       "      <td>153.426500</td>\n",
       "      <td>240.000000</td>\n",
       "      <td>149.100000</td>\n",
       "      <td>3937.000000</td>\n",
       "      <td>377.300000</td>\n",
       "      <td>14.000000</td>\n",
       "      <td>12.000000</td>\n",
       "    </tr>\n",
       "  </tbody>\n",
       "</table>\n",
       "</div>"
      ],
      "text/plain": [
       "       Inversions  year_introduced    latitude   longitude  speed1_value  \\\n",
       "count  932.000000      1087.000000  812.000000  812.000000    937.000000   \n",
       "mean     1.547210      1994.986201   38.373484  -41.595373     53.850374   \n",
       "std      2.114073        23.475248   15.516596   72.285227     23.385518   \n",
       "min      0.000000      1884.000000  -48.261700 -123.035700      5.000000   \n",
       "25%      0.000000      1989.000000   35.031050  -84.552200     40.000000   \n",
       "50%      0.000000      2000.000000   40.289800  -76.653600     50.000000   \n",
       "75%      3.000000      2010.000000   44.799600    2.778100     63.000000   \n",
       "max     14.000000      2022.000000   63.230900  153.426500    240.000000   \n",
       "\n",
       "        speed_mph  height_value   height_ft  Inversions_clean  Gforce_clean  \n",
       "count  937.000000    965.000000  171.000000       1087.000000    362.000000  \n",
       "mean    48.617289     89.575171  101.996491          1.326587      3.824006  \n",
       "std     16.678031    136.246444   67.329092          2.030854      0.989998  \n",
       "min      5.000000      4.000000   13.100000          0.000000      0.800000  \n",
       "25%     37.300000     44.000000   51.800000          0.000000      3.400000  \n",
       "50%     49.700000     79.000000   91.200000          0.000000      4.000000  \n",
       "75%     58.000000    113.000000  131.200000          2.000000      4.500000  \n",
       "max    149.100000   3937.000000  377.300000         14.000000     12.000000  "
      ]
     },
     "execution_count": 3,
     "metadata": {},
     "output_type": "execute_result"
    }
   ],
   "source": [
    "# Qucik summarize numeric data to get a basic picture of the data\n",
    "df.describe()"
   ]
  },
  {
   "cell_type": "code",
   "execution_count": 4,
   "id": "4ca64880",
   "metadata": {
    "execution": {
     "iopub.execute_input": "2025-07-21T18:52:04.986796Z",
     "iopub.status.busy": "2025-07-21T18:52:04.986485Z",
     "iopub.status.idle": "2025-07-21T18:52:05.011669Z",
     "shell.execute_reply": "2025-07-21T18:52:05.010446Z"
    },
    "papermill": {
     "duration": 0.031605,
     "end_time": "2025-07-21T18:52:05.013131",
     "exception": false,
     "start_time": "2025-07-21T18:52:04.981526",
     "status": "completed"
    },
    "tags": []
   },
   "outputs": [
    {
     "name": "stdout",
     "output_type": "stream",
     "text": [
      "<class 'pandas.core.frame.DataFrame'>\n",
      "RangeIndex: 1087 entries, 0 to 1086\n",
      "Data columns (total 56 columns):\n",
      " #   Column                         Non-Null Count  Dtype  \n",
      "---  ------                         --------------  -----  \n",
      " 0   coaster_name                   1087 non-null   object \n",
      " 1   Length                         953 non-null    object \n",
      " 2   Speed                          937 non-null    object \n",
      " 3   Location                       1087 non-null   object \n",
      " 4   Status                         874 non-null    object \n",
      " 5   Opening date                   837 non-null    object \n",
      " 6   Type                           1087 non-null   object \n",
      " 7   Manufacturer                   1028 non-null   object \n",
      " 8   Height restriction             831 non-null    object \n",
      " 9   Model                          744 non-null    object \n",
      " 10  Height                         965 non-null    object \n",
      " 11  Inversions                     932 non-null    float64\n",
      " 12  Lift/launch system             795 non-null    object \n",
      " 13  Cost                           382 non-null    object \n",
      " 14  Trains                         718 non-null    object \n",
      " 15  Park section                   487 non-null    object \n",
      " 16  Duration                       765 non-null    object \n",
      " 17  Capacity                       575 non-null    object \n",
      " 18  G-force                        362 non-null    object \n",
      " 19  Designer                       578 non-null    object \n",
      " 20  Max vertical angle             357 non-null    object \n",
      " 21  Drop                           494 non-null    object \n",
      " 22  Soft opening date              96 non-null     object \n",
      " 23  Fast Lane available            69 non-null     object \n",
      " 24  Replaced                       173 non-null    object \n",
      " 25  Track layout                   335 non-null    object \n",
      " 26  Fastrack available             19 non-null     object \n",
      " 27  Soft opening date.1            96 non-null     object \n",
      " 28  Closing date                   236 non-null    object \n",
      " 29  Opened                         27 non-null     object \n",
      " 30  Replaced by                    88 non-null     object \n",
      " 31  Website                        87 non-null     object \n",
      " 32  Flash Pass Available           50 non-null     object \n",
      " 33  Must transfer from wheelchair  106 non-null    object \n",
      " 34  Theme                          44 non-null     object \n",
      " 35  Single rider line available    81 non-null     object \n",
      " 36  Restraint Style                22 non-null     object \n",
      " 37  Flash Pass available           46 non-null     object \n",
      " 38  Acceleration                   60 non-null     object \n",
      " 39  Restraints                     24 non-null     object \n",
      " 40  Name                           35 non-null     object \n",
      " 41  year_introduced                1087 non-null   int64  \n",
      " 42  latitude                       812 non-null    float64\n",
      " 43  longitude                      812 non-null    float64\n",
      " 44  Type_Main                      1087 non-null   object \n",
      " 45  opening_date_clean             837 non-null    object \n",
      " 46  speed1                         937 non-null    object \n",
      " 47  speed2                         935 non-null    object \n",
      " 48  speed1_value                   937 non-null    float64\n",
      " 49  speed1_unit                    937 non-null    object \n",
      " 50  speed_mph                      937 non-null    float64\n",
      " 51  height_value                   965 non-null    float64\n",
      " 52  height_unit                    965 non-null    object \n",
      " 53  height_ft                      171 non-null    float64\n",
      " 54  Inversions_clean               1087 non-null   int64  \n",
      " 55  Gforce_clean                   362 non-null    float64\n",
      "dtypes: float64(8), int64(2), object(46)\n",
      "memory usage: 475.7+ KB\n"
     ]
    }
   ],
   "source": [
    "# Checking the info on the data, column info and row counts\n",
    "df.info()"
   ]
  },
  {
   "cell_type": "markdown",
   "id": "a15102a0",
   "metadata": {
    "papermill": {
     "duration": 0.003813,
     "end_time": "2025-07-21T18:52:05.021243",
     "exception": false,
     "start_time": "2025-07-21T18:52:05.017430",
     "status": "completed"
    },
    "tags": []
   },
   "source": [
    "## Step 2: Data Preperation\n",
    "\n",
    "* Dropping Irrelevant Columns & Rows\n",
    "* Identifying Duplicated Columns\n",
    "* Renaming Columns\n",
    "* Feature Creation"
   ]
  },
  {
   "cell_type": "code",
   "execution_count": 5,
   "id": "8e7a35fc",
   "metadata": {
    "execution": {
     "iopub.execute_input": "2025-07-21T18:52:05.031532Z",
     "iopub.status.busy": "2025-07-21T18:52:05.030916Z",
     "iopub.status.idle": "2025-07-21T18:52:05.041131Z",
     "shell.execute_reply": "2025-07-21T18:52:05.040251Z"
    },
    "papermill": {
     "duration": 0.016489,
     "end_time": "2025-07-21T18:52:05.042662",
     "exception": false,
     "start_time": "2025-07-21T18:52:05.026173",
     "status": "completed"
    },
    "tags": []
   },
   "outputs": [],
   "source": [
    "# Selecting only necessary columns\n",
    "df = df[['coaster_name', \n",
    "    # 'Length', 'Speed', \n",
    "    'Location', 'Status', \n",
    "    # 'Opening date',\n",
    "       # 'Type', \n",
    "    'Manufacturer', \n",
    "    # 'Height restriction', 'Model', 'Height',\n",
    "       # 'Inversions', 'Lift/launch system', 'Cost', 'Trains', 'Park section',\n",
    "       # 'Duration', 'Capacity', 'G-force', 'Designer', 'Max vertical angle',\n",
    "       # 'Drop', 'Soft opening date', 'Fast Lane available', 'Replaced',\n",
    "       # 'Track layout', 'Fastrack available', 'Soft opening date.1',\n",
    "       # 'Closing date', 'Opened', 'Replaced by', 'Website',\n",
    "       # 'Flash Pass Available', 'Must transfer from wheelchair', 'Theme',\n",
    "       # 'Single rider line available', 'Restraint Style',\n",
    "       # 'Flash Pass available', 'Acceleration', 'Restraints', 'Name',\n",
    "        'year_introduced', 'latitude', 'longitude', 'Type_Main',\n",
    "        'opening_date_clean', \n",
    "    # 'speed1', 'speed2', 'speed1_value', 'speed1_unit',\n",
    "       'speed_mph', \n",
    "    # 'height_value', 'height_unit', \n",
    "    'height_ft',\n",
    "       'Inversions_clean', 'Gforce_clean']].copy()"
   ]
  },
  {
   "cell_type": "code",
   "execution_count": 6,
   "id": "0c26f528",
   "metadata": {
    "execution": {
     "iopub.execute_input": "2025-07-21T18:52:05.052429Z",
     "iopub.status.busy": "2025-07-21T18:52:05.051565Z",
     "iopub.status.idle": "2025-07-21T18:52:05.061442Z",
     "shell.execute_reply": "2025-07-21T18:52:05.060530Z"
    },
    "papermill": {
     "duration": 0.016265,
     "end_time": "2025-07-21T18:52:05.063020",
     "exception": false,
     "start_time": "2025-07-21T18:52:05.046755",
     "status": "completed"
    },
    "tags": []
   },
   "outputs": [],
   "source": [
    "# Changing Date column from object to a date time format\n",
    "df['opening_date_clean'] = pd.to_datetime(df['opening_date_clean'])"
   ]
  },
  {
   "cell_type": "code",
   "execution_count": 7,
   "id": "73e8eda6",
   "metadata": {
    "execution": {
     "iopub.execute_input": "2025-07-21T18:52:05.073019Z",
     "iopub.status.busy": "2025-07-21T18:52:05.072620Z",
     "iopub.status.idle": "2025-07-21T18:52:05.079558Z",
     "shell.execute_reply": "2025-07-21T18:52:05.078549Z"
    },
    "papermill": {
     "duration": 0.013673,
     "end_time": "2025-07-21T18:52:05.081048",
     "exception": false,
     "start_time": "2025-07-21T18:52:05.067375",
     "status": "completed"
    },
    "tags": []
   },
   "outputs": [],
   "source": [
    "# Rename our columns to better versions\n",
    "df = df.rename(columns={'coaster_name': 'Coaster_Name',\n",
    "                     'year_introduced': 'Year_Introduced',\n",
    "                     'latitude': 'Latitude',\n",
    "                     'longitude': 'Longitude',\n",
    "                     'opening_date_clean': 'Opening_Date',\n",
    "                     'speed_mph': 'Speed_mph',\n",
    "                     'height_ft': 'Height_ft',\n",
    "                     'Inversions_clean': 'Inversions',\n",
    "                     'Gforce_clean': 'Gforce'\n",
    "})"
   ]
  },
  {
   "cell_type": "code",
   "execution_count": 8,
   "id": "3305468a",
   "metadata": {
    "execution": {
     "iopub.execute_input": "2025-07-21T18:52:05.091085Z",
     "iopub.status.busy": "2025-07-21T18:52:05.090651Z",
     "iopub.status.idle": "2025-07-21T18:52:05.109452Z",
     "shell.execute_reply": "2025-07-21T18:52:05.108550Z"
    },
    "papermill": {
     "duration": 0.026193,
     "end_time": "2025-07-21T18:52:05.111402",
     "exception": false,
     "start_time": "2025-07-21T18:52:05.085209",
     "status": "completed"
    },
    "tags": []
   },
   "outputs": [
    {
     "data": {
      "text/html": [
       "<div>\n",
       "<style scoped>\n",
       "    .dataframe tbody tr th:only-of-type {\n",
       "        vertical-align: middle;\n",
       "    }\n",
       "\n",
       "    .dataframe tbody tr th {\n",
       "        vertical-align: top;\n",
       "    }\n",
       "\n",
       "    .dataframe thead th {\n",
       "        text-align: right;\n",
       "    }\n",
       "</style>\n",
       "<table border=\"1\" class=\"dataframe\">\n",
       "  <thead>\n",
       "    <tr style=\"text-align: right;\">\n",
       "      <th></th>\n",
       "      <th>Coaster_Name</th>\n",
       "      <th>Location</th>\n",
       "      <th>Status</th>\n",
       "      <th>Manufacturer</th>\n",
       "      <th>Year_Introduced</th>\n",
       "      <th>Latitude</th>\n",
       "      <th>Longitude</th>\n",
       "      <th>Type_Main</th>\n",
       "      <th>Opening_Date</th>\n",
       "      <th>Speed_mph</th>\n",
       "      <th>Height_ft</th>\n",
       "      <th>Inversions</th>\n",
       "      <th>Gforce</th>\n",
       "    </tr>\n",
       "  </thead>\n",
       "  <tbody>\n",
       "    <tr>\n",
       "      <th>0</th>\n",
       "      <td>Switchback Railway</td>\n",
       "      <td>Coney Island</td>\n",
       "      <td>Removed</td>\n",
       "      <td>LaMarcus Adna Thompson</td>\n",
       "      <td>1884</td>\n",
       "      <td>40.5740</td>\n",
       "      <td>-73.9780</td>\n",
       "      <td>Wood</td>\n",
       "      <td>1884-06-16</td>\n",
       "      <td>6.0</td>\n",
       "      <td>NaN</td>\n",
       "      <td>0</td>\n",
       "      <td>2.9</td>\n",
       "    </tr>\n",
       "    <tr>\n",
       "      <th>1</th>\n",
       "      <td>Flip Flap Railway</td>\n",
       "      <td>Sea Lion Park</td>\n",
       "      <td>Removed</td>\n",
       "      <td>Lina Beecher</td>\n",
       "      <td>1895</td>\n",
       "      <td>40.5780</td>\n",
       "      <td>-73.9790</td>\n",
       "      <td>Wood</td>\n",
       "      <td>1895-01-01</td>\n",
       "      <td>NaN</td>\n",
       "      <td>NaN</td>\n",
       "      <td>1</td>\n",
       "      <td>12.0</td>\n",
       "    </tr>\n",
       "    <tr>\n",
       "      <th>2</th>\n",
       "      <td>Switchback Railway (Euclid Beach Park)</td>\n",
       "      <td>Cleveland, Ohio, United States</td>\n",
       "      <td>Closed</td>\n",
       "      <td>NaN</td>\n",
       "      <td>1896</td>\n",
       "      <td>41.5800</td>\n",
       "      <td>-81.5700</td>\n",
       "      <td>Other</td>\n",
       "      <td>NaT</td>\n",
       "      <td>NaN</td>\n",
       "      <td>NaN</td>\n",
       "      <td>0</td>\n",
       "      <td>NaN</td>\n",
       "    </tr>\n",
       "    <tr>\n",
       "      <th>3</th>\n",
       "      <td>Loop the Loop (Coney Island)</td>\n",
       "      <td>Other</td>\n",
       "      <td>Removed</td>\n",
       "      <td>Edwin Prescott</td>\n",
       "      <td>1901</td>\n",
       "      <td>40.5745</td>\n",
       "      <td>-73.9780</td>\n",
       "      <td>Steel</td>\n",
       "      <td>1901-01-01</td>\n",
       "      <td>NaN</td>\n",
       "      <td>NaN</td>\n",
       "      <td>1</td>\n",
       "      <td>NaN</td>\n",
       "    </tr>\n",
       "    <tr>\n",
       "      <th>4</th>\n",
       "      <td>Loop the Loop (Young's Pier)</td>\n",
       "      <td>Other</td>\n",
       "      <td>Removed</td>\n",
       "      <td>Edwin Prescott</td>\n",
       "      <td>1901</td>\n",
       "      <td>39.3538</td>\n",
       "      <td>-74.4342</td>\n",
       "      <td>Steel</td>\n",
       "      <td>1901-01-01</td>\n",
       "      <td>NaN</td>\n",
       "      <td>NaN</td>\n",
       "      <td>1</td>\n",
       "      <td>NaN</td>\n",
       "    </tr>\n",
       "  </tbody>\n",
       "</table>\n",
       "</div>"
      ],
      "text/plain": [
       "                             Coaster_Name                        Location  \\\n",
       "0                      Switchback Railway                    Coney Island   \n",
       "1                       Flip Flap Railway                   Sea Lion Park   \n",
       "2  Switchback Railway (Euclid Beach Park)  Cleveland, Ohio, United States   \n",
       "3            Loop the Loop (Coney Island)                           Other   \n",
       "4            Loop the Loop (Young's Pier)                           Other   \n",
       "\n",
       "    Status            Manufacturer  Year_Introduced  Latitude  Longitude  \\\n",
       "0  Removed  LaMarcus Adna Thompson             1884   40.5740   -73.9780   \n",
       "1  Removed            Lina Beecher             1895   40.5780   -73.9790   \n",
       "2   Closed                     NaN             1896   41.5800   -81.5700   \n",
       "3  Removed          Edwin Prescott             1901   40.5745   -73.9780   \n",
       "4  Removed          Edwin Prescott             1901   39.3538   -74.4342   \n",
       "\n",
       "  Type_Main Opening_Date  Speed_mph  Height_ft  Inversions  Gforce  \n",
       "0      Wood   1884-06-16        6.0        NaN           0     2.9  \n",
       "1      Wood   1895-01-01        NaN        NaN           1    12.0  \n",
       "2     Other          NaT        NaN        NaN           0     NaN  \n",
       "3     Steel   1901-01-01        NaN        NaN           1     NaN  \n",
       "4     Steel   1901-01-01        NaN        NaN           1     NaN  "
      ]
     },
     "execution_count": 8,
     "metadata": {},
     "output_type": "execute_result"
    }
   ],
   "source": [
    "df.head()"
   ]
  },
  {
   "cell_type": "code",
   "execution_count": 9,
   "id": "e3389202",
   "metadata": {
    "execution": {
     "iopub.execute_input": "2025-07-21T18:52:05.127810Z",
     "iopub.status.busy": "2025-07-21T18:52:05.127479Z",
     "iopub.status.idle": "2025-07-21T18:52:05.135241Z",
     "shell.execute_reply": "2025-07-21T18:52:05.134406Z"
    },
    "papermill": {
     "duration": 0.017517,
     "end_time": "2025-07-21T18:52:05.136657",
     "exception": false,
     "start_time": "2025-07-21T18:52:05.119140",
     "status": "completed"
    },
    "tags": []
   },
   "outputs": [
    {
     "data": {
      "text/plain": [
       "Coaster_Name         0\n",
       "Location             0\n",
       "Status             213\n",
       "Manufacturer        59\n",
       "Year_Introduced      0\n",
       "Latitude           275\n",
       "Longitude          275\n",
       "Type_Main            0\n",
       "Opening_Date       250\n",
       "Speed_mph          150\n",
       "Height_ft          916\n",
       "Inversions           0\n",
       "Gforce             725\n",
       "dtype: int64"
      ]
     },
     "execution_count": 9,
     "metadata": {},
     "output_type": "execute_result"
    }
   ],
   "source": [
    "# Finding missing values per columns\n",
    "\n",
    "df.isna().sum()"
   ]
  },
  {
   "cell_type": "code",
   "execution_count": 10,
   "id": "30133b23",
   "metadata": {
    "execution": {
     "iopub.execute_input": "2025-07-21T18:52:05.146684Z",
     "iopub.status.busy": "2025-07-21T18:52:05.146395Z",
     "iopub.status.idle": "2025-07-21T18:52:05.155672Z",
     "shell.execute_reply": "2025-07-21T18:52:05.154855Z"
    },
    "papermill": {
     "duration": 0.015965,
     "end_time": "2025-07-21T18:52:05.157201",
     "exception": false,
     "start_time": "2025-07-21T18:52:05.141236",
     "status": "completed"
    },
    "tags": []
   },
   "outputs": [
    {
     "data": {
      "text/plain": [
       "0"
      ]
     },
     "execution_count": 10,
     "metadata": {},
     "output_type": "execute_result"
    }
   ],
   "source": [
    "# Finding duplicate values in overall dataframe\n",
    "# -- unique here will be combination of all the row values\n",
    "\n",
    "df.duplicated().sum()\n"
   ]
  },
  {
   "cell_type": "code",
   "execution_count": 11,
   "id": "5ace1657",
   "metadata": {
    "execution": {
     "iopub.execute_input": "2025-07-21T18:52:05.174537Z",
     "iopub.status.busy": "2025-07-21T18:52:05.173851Z",
     "iopub.status.idle": "2025-07-21T18:52:05.189933Z",
     "shell.execute_reply": "2025-07-21T18:52:05.189138Z"
    },
    "papermill": {
     "duration": 0.026184,
     "end_time": "2025-07-21T18:52:05.191477",
     "exception": false,
     "start_time": "2025-07-21T18:52:05.165293",
     "status": "completed"
    },
    "tags": []
   },
   "outputs": [
    {
     "data": {
      "text/html": [
       "<div>\n",
       "<style scoped>\n",
       "    .dataframe tbody tr th:only-of-type {\n",
       "        vertical-align: middle;\n",
       "    }\n",
       "\n",
       "    .dataframe tbody tr th {\n",
       "        vertical-align: top;\n",
       "    }\n",
       "\n",
       "    .dataframe thead th {\n",
       "        text-align: right;\n",
       "    }\n",
       "</style>\n",
       "<table border=\"1\" class=\"dataframe\">\n",
       "  <thead>\n",
       "    <tr style=\"text-align: right;\">\n",
       "      <th></th>\n",
       "      <th>Coaster_Name</th>\n",
       "      <th>Location</th>\n",
       "      <th>Status</th>\n",
       "      <th>Manufacturer</th>\n",
       "      <th>Year_Introduced</th>\n",
       "      <th>Latitude</th>\n",
       "      <th>Longitude</th>\n",
       "      <th>Type_Main</th>\n",
       "      <th>Opening_Date</th>\n",
       "      <th>Speed_mph</th>\n",
       "      <th>Height_ft</th>\n",
       "      <th>Inversions</th>\n",
       "      <th>Gforce</th>\n",
       "    </tr>\n",
       "  </thead>\n",
       "  <tbody>\n",
       "    <tr>\n",
       "      <th>43</th>\n",
       "      <td>Crystal Beach Cyclone</td>\n",
       "      <td>Crystal Beach Park</td>\n",
       "      <td>Removed</td>\n",
       "      <td>Traver Engineering</td>\n",
       "      <td>1927</td>\n",
       "      <td>42.8617</td>\n",
       "      <td>-79.0598</td>\n",
       "      <td>Wood</td>\n",
       "      <td>1926-01-01</td>\n",
       "      <td>60.0</td>\n",
       "      <td>NaN</td>\n",
       "      <td>0</td>\n",
       "      <td>4.0</td>\n",
       "    </tr>\n",
       "    <tr>\n",
       "      <th>60</th>\n",
       "      <td>Derby Racer</td>\n",
       "      <td>Revere Beach</td>\n",
       "      <td>Removed</td>\n",
       "      <td>Fred W. Pearce</td>\n",
       "      <td>1937</td>\n",
       "      <td>42.4200</td>\n",
       "      <td>-70.9860</td>\n",
       "      <td>Wood</td>\n",
       "      <td>1911-01-01</td>\n",
       "      <td>NaN</td>\n",
       "      <td>NaN</td>\n",
       "      <td>0</td>\n",
       "      <td>NaN</td>\n",
       "    </tr>\n",
       "    <tr>\n",
       "      <th>61</th>\n",
       "      <td>Blue Streak (Conneaut Lake)</td>\n",
       "      <td>Conneaut Lake Park</td>\n",
       "      <td>Closed</td>\n",
       "      <td>NaN</td>\n",
       "      <td>1938</td>\n",
       "      <td>41.6349</td>\n",
       "      <td>-80.3180</td>\n",
       "      <td>Wood</td>\n",
       "      <td>1938-05-23</td>\n",
       "      <td>50.0</td>\n",
       "      <td>NaN</td>\n",
       "      <td>0</td>\n",
       "      <td>NaN</td>\n",
       "    </tr>\n",
       "    <tr>\n",
       "      <th>167</th>\n",
       "      <td>Big Thunder Mountain Railroad</td>\n",
       "      <td>Other</td>\n",
       "      <td>NaN</td>\n",
       "      <td>Arrow Development (California and Florida)Dyna...</td>\n",
       "      <td>1980</td>\n",
       "      <td>NaN</td>\n",
       "      <td>NaN</td>\n",
       "      <td>Steel</td>\n",
       "      <td>NaT</td>\n",
       "      <td>35.0</td>\n",
       "      <td>NaN</td>\n",
       "      <td>0</td>\n",
       "      <td>NaN</td>\n",
       "    </tr>\n",
       "    <tr>\n",
       "      <th>237</th>\n",
       "      <td>Thunder Run (Canada's Wonderland)</td>\n",
       "      <td>Canada's Wonderland</td>\n",
       "      <td>Operating</td>\n",
       "      <td>Mack Rides</td>\n",
       "      <td>1986</td>\n",
       "      <td>43.8427</td>\n",
       "      <td>-79.5423</td>\n",
       "      <td>Steel</td>\n",
       "      <td>1981-05-23</td>\n",
       "      <td>39.8</td>\n",
       "      <td>32.8</td>\n",
       "      <td>0</td>\n",
       "      <td>NaN</td>\n",
       "    </tr>\n",
       "  </tbody>\n",
       "</table>\n",
       "</div>"
      ],
      "text/plain": [
       "                          Coaster_Name             Location     Status  \\\n",
       "43               Crystal Beach Cyclone   Crystal Beach Park    Removed   \n",
       "60                         Derby Racer         Revere Beach    Removed   \n",
       "61         Blue Streak (Conneaut Lake)   Conneaut Lake Park     Closed   \n",
       "167      Big Thunder Mountain Railroad                Other        NaN   \n",
       "237  Thunder Run (Canada's Wonderland)  Canada's Wonderland  Operating   \n",
       "\n",
       "                                          Manufacturer  Year_Introduced  \\\n",
       "43                                  Traver Engineering             1927   \n",
       "60                                      Fred W. Pearce             1937   \n",
       "61                                                 NaN             1938   \n",
       "167  Arrow Development (California and Florida)Dyna...             1980   \n",
       "237                                         Mack Rides             1986   \n",
       "\n",
       "     Latitude  Longitude Type_Main Opening_Date  Speed_mph  Height_ft  \\\n",
       "43    42.8617   -79.0598      Wood   1926-01-01       60.0        NaN   \n",
       "60    42.4200   -70.9860      Wood   1911-01-01        NaN        NaN   \n",
       "61    41.6349   -80.3180      Wood   1938-05-23       50.0        NaN   \n",
       "167       NaN        NaN     Steel          NaT       35.0        NaN   \n",
       "237   43.8427   -79.5423     Steel   1981-05-23       39.8       32.8   \n",
       "\n",
       "     Inversions  Gforce  \n",
       "43            0     4.0  \n",
       "60            0     NaN  \n",
       "61            0     NaN  \n",
       "167           0     NaN  \n",
       "237           0     NaN  "
      ]
     },
     "execution_count": 11,
     "metadata": {},
     "output_type": "execute_result"
    }
   ],
   "source": [
    "# Finding duplicate values in subset of dataframe\n",
    "\n",
    "df.loc[df.duplicated(subset=['Coaster_Name'])].head(5)"
   ]
  },
  {
   "cell_type": "code",
   "execution_count": 12,
   "id": "ccb683af",
   "metadata": {
    "execution": {
     "iopub.execute_input": "2025-07-21T18:52:05.202196Z",
     "iopub.status.busy": "2025-07-21T18:52:05.201851Z",
     "iopub.status.idle": "2025-07-21T18:52:05.220352Z",
     "shell.execute_reply": "2025-07-21T18:52:05.219493Z"
    },
    "papermill": {
     "duration": 0.02583,
     "end_time": "2025-07-21T18:52:05.222123",
     "exception": false,
     "start_time": "2025-07-21T18:52:05.196293",
     "status": "completed"
    },
    "tags": []
   },
   "outputs": [
    {
     "data": {
      "text/html": [
       "<div>\n",
       "<style scoped>\n",
       "    .dataframe tbody tr th:only-of-type {\n",
       "        vertical-align: middle;\n",
       "    }\n",
       "\n",
       "    .dataframe tbody tr th {\n",
       "        vertical-align: top;\n",
       "    }\n",
       "\n",
       "    .dataframe thead th {\n",
       "        text-align: right;\n",
       "    }\n",
       "</style>\n",
       "<table border=\"1\" class=\"dataframe\">\n",
       "  <thead>\n",
       "    <tr style=\"text-align: right;\">\n",
       "      <th></th>\n",
       "      <th>Coaster_Name</th>\n",
       "      <th>Location</th>\n",
       "      <th>Status</th>\n",
       "      <th>Manufacturer</th>\n",
       "      <th>Year_Introduced</th>\n",
       "      <th>Latitude</th>\n",
       "      <th>Longitude</th>\n",
       "      <th>Type_Main</th>\n",
       "      <th>Opening_Date</th>\n",
       "      <th>Speed_mph</th>\n",
       "      <th>Height_ft</th>\n",
       "      <th>Inversions</th>\n",
       "      <th>Gforce</th>\n",
       "    </tr>\n",
       "  </thead>\n",
       "  <tbody>\n",
       "    <tr>\n",
       "      <th>39</th>\n",
       "      <td>Crystal Beach Cyclone</td>\n",
       "      <td>Crystal Beach Park</td>\n",
       "      <td>Removed</td>\n",
       "      <td>Traver Engineering</td>\n",
       "      <td>1926</td>\n",
       "      <td>42.8617</td>\n",
       "      <td>-79.0598</td>\n",
       "      <td>Wood</td>\n",
       "      <td>1926-01-01</td>\n",
       "      <td>60.0</td>\n",
       "      <td>NaN</td>\n",
       "      <td>0</td>\n",
       "      <td>4.0</td>\n",
       "    </tr>\n",
       "    <tr>\n",
       "      <th>43</th>\n",
       "      <td>Crystal Beach Cyclone</td>\n",
       "      <td>Crystal Beach Park</td>\n",
       "      <td>Removed</td>\n",
       "      <td>Traver Engineering</td>\n",
       "      <td>1927</td>\n",
       "      <td>42.8617</td>\n",
       "      <td>-79.0598</td>\n",
       "      <td>Wood</td>\n",
       "      <td>1926-01-01</td>\n",
       "      <td>60.0</td>\n",
       "      <td>NaN</td>\n",
       "      <td>0</td>\n",
       "      <td>4.0</td>\n",
       "    </tr>\n",
       "  </tbody>\n",
       "</table>\n",
       "</div>"
      ],
      "text/plain": [
       "             Coaster_Name            Location   Status        Manufacturer  \\\n",
       "39  Crystal Beach Cyclone  Crystal Beach Park  Removed  Traver Engineering   \n",
       "43  Crystal Beach Cyclone  Crystal Beach Park  Removed  Traver Engineering   \n",
       "\n",
       "    Year_Introduced  Latitude  Longitude Type_Main Opening_Date  Speed_mph  \\\n",
       "39             1926   42.8617   -79.0598      Wood   1926-01-01       60.0   \n",
       "43             1927   42.8617   -79.0598      Wood   1926-01-01       60.0   \n",
       "\n",
       "    Height_ft  Inversions  Gforce  \n",
       "39        NaN           0     4.0  \n",
       "43        NaN           0     4.0  "
      ]
     },
     "execution_count": 12,
     "metadata": {},
     "output_type": "execute_result"
    }
   ],
   "source": [
    "# Fetching data using a where condition on Column value\n",
    "# -- in the fetched example, the year_introduced is different, \n",
    "# -- which is not correct, we would take 1st introduced year i.e. 1926\n",
    "\n",
    "df.query('Coaster_Name == \"Crystal Beach Cyclone\"')"
   ]
  },
  {
   "cell_type": "code",
   "execution_count": 13,
   "id": "e29a7c58",
   "metadata": {
    "execution": {
     "iopub.execute_input": "2025-07-21T18:52:05.239177Z",
     "iopub.status.busy": "2025-07-21T18:52:05.238832Z",
     "iopub.status.idle": "2025-07-21T18:52:05.245945Z",
     "shell.execute_reply": "2025-07-21T18:52:05.245161Z"
    },
    "papermill": {
     "duration": 0.016549,
     "end_time": "2025-07-21T18:52:05.247474",
     "exception": false,
     "start_time": "2025-07-21T18:52:05.230925",
     "status": "completed"
    },
    "tags": []
   },
   "outputs": [],
   "source": [
    "# We will remove duplicates if certain columns have same value\n",
    "# Since the index of duplicated rows is not carried , \n",
    "# -- we have to create a new index column and drop the provious one\n",
    "\n",
    "df = df.loc[~df.duplicated(subset=['Coaster_Name','Location','Opening_Date'])] \\\n",
    ".reset_index(drop=True).copy()"
   ]
  },
  {
   "cell_type": "code",
   "execution_count": 14,
   "id": "7a1ebd18",
   "metadata": {
    "execution": {
     "iopub.execute_input": "2025-07-21T18:52:05.258459Z",
     "iopub.status.busy": "2025-07-21T18:52:05.258162Z",
     "iopub.status.idle": "2025-07-21T18:52:05.263377Z",
     "shell.execute_reply": "2025-07-21T18:52:05.262582Z"
    },
    "papermill": {
     "duration": 0.012372,
     "end_time": "2025-07-21T18:52:05.264832",
     "exception": false,
     "start_time": "2025-07-21T18:52:05.252460",
     "status": "completed"
    },
    "tags": []
   },
   "outputs": [
    {
     "data": {
      "text/plain": [
       "(990, 13)"
      ]
     },
     "execution_count": 14,
     "metadata": {},
     "output_type": "execute_result"
    }
   ],
   "source": [
    "df.shape"
   ]
  },
  {
   "cell_type": "markdown",
   "id": "02741ec8",
   "metadata": {
    "papermill": {
     "duration": 0.00453,
     "end_time": "2025-07-21T18:52:05.274279",
     "exception": false,
     "start_time": "2025-07-21T18:52:05.269749",
     "status": "completed"
    },
    "tags": []
   },
   "source": [
    "## Step 3: Feature Understanding\n",
    "\n",
    "(Univariate Analysis)\n",
    "\n",
    "* Plotting Feature Distributions\n",
    "    * Histogram\n",
    "    * KDE\n",
    "    * Box Plot"
   ]
  },
  {
   "cell_type": "code",
   "execution_count": 15,
   "id": "74c1aa1b",
   "metadata": {
    "execution": {
     "iopub.execute_input": "2025-07-21T18:52:05.285124Z",
     "iopub.status.busy": "2025-07-21T18:52:05.284743Z",
     "iopub.status.idle": "2025-07-21T18:52:05.729698Z",
     "shell.execute_reply": "2025-07-21T18:52:05.728669Z"
    },
    "papermill": {
     "duration": 0.452322,
     "end_time": "2025-07-21T18:52:05.731498",
     "exception": false,
     "start_time": "2025-07-21T18:52:05.279176",
     "status": "completed"
    },
    "tags": []
   },
   "outputs": [
    {
     "data": {
      "text/plain": [
       "Text(0, 0.5, 'Number of Coasters')"
      ]
     },
     "execution_count": 15,
     "metadata": {},
     "output_type": "execute_result"
    },
    {
     "data": {
      "image/png": "[encoded data removed]",
      "text/plain": [
       "<Figure size 640x480 with 1 Axes>"
      ]
     },
     "metadata": {},
     "output_type": "display_data"
    }
   ],
   "source": [
    "ax = df['Year_Introduced'].value_counts() \\\n",
    "    .head(10) \\\n",
    "    .plot(kind='bar', title='Top Years Coasters Introduced')\n",
    "\n",
    "ax.set_xlabel('Year Introduced')\n",
    "ax.set_ylabel('Number of Coasters')"
   ]
  },
  {
   "cell_type": "code",
   "execution_count": 16,
   "id": "67b2dcd5",
   "metadata": {
    "execution": {
     "iopub.execute_input": "2025-07-21T18:52:05.750511Z",
     "iopub.status.busy": "2025-07-21T18:52:05.749724Z",
     "iopub.status.idle": "2025-07-21T18:52:06.024947Z",
     "shell.execute_reply": "2025-07-21T18:52:06.023810Z"
    },
    "papermill": {
     "duration": 0.284846,
     "end_time": "2025-07-21T18:52:06.026588",
     "exception": false,
     "start_time": "2025-07-21T18:52:05.741742",
     "status": "completed"
    },
    "tags": []
   },
   "outputs": [
    {
     "data": {
      "text/plain": [
       "Text(0, 0.5, 'Frequency')"
      ]
     },
     "execution_count": 16,
     "metadata": {},
     "output_type": "execute_result"
    },
    {
     "data": {
      "image/png": "[encoded data removed]",
      "text/plain": [
       "<Figure size 640x480 with 1 Axes>"
      ]
     },
     "metadata": {},
     "output_type": "display_data"
    }
   ],
   "source": [
    "ax = df['Speed_mph'].plot(kind='hist', \n",
    "                     bins=20, \n",
    "                     title='Coaster Speed (mph)')\n",
    "\n",
    "ax.set_xlabel('Speed (mph)')\n",
    "ax.set_ylabel('Frequency')"
   ]
  },
  {
   "cell_type": "code",
   "execution_count": 17,
   "id": "b381ffe3",
   "metadata": {
    "execution": {
     "iopub.execute_input": "2025-07-21T18:52:06.040552Z",
     "iopub.status.busy": "2025-07-21T18:52:06.039851Z",
     "iopub.status.idle": "2025-07-21T18:52:06.299777Z",
     "shell.execute_reply": "2025-07-21T18:52:06.298947Z"
    },
    "papermill": {
     "duration": 0.26836,
     "end_time": "2025-07-21T18:52:06.301400",
     "exception": false,
     "start_time": "2025-07-21T18:52:06.033040",
     "status": "completed"
    },
    "tags": []
   },
   "outputs": [
    {
     "data": {
      "text/plain": [
       "Text(0, 0.5, 'Frequency')"
      ]
     },
     "execution_count": 17,
     "metadata": {},
     "output_type": "execute_result"
    },
    {
     "data": {
      "image/png": "[encoded data removed]",
      "text/plain": [
       "<Figure size 640x480 with 1 Axes>"
      ]
     },
     "metadata": {},
     "output_type": "display_data"
    }
   ],
   "source": [
    "ax = df['Speed_mph'].plot(kind='kde', \n",
    "                     title='Coaster Speed (mph)')\n",
    "\n",
    "ax.set_xlabel('Speed (mph)')\n",
    "ax.set_ylabel('Frequency')"
   ]
  }
 ],
 "metadata": {
  "kaggle": {
   "accelerator": "none",
   "dataSources": [
    {
     "datasetId": 7866245,
     "sourceId": 12468745,
     "sourceType": "datasetVersion"
    }
   ],
   "dockerImageVersionId": 31089,
   "isGpuEnabled": false,
   "isInternetEnabled": true,
   "language": "python",
   "sourceType": "notebook"
  },
  "kernelspec": {
   "display_name": "Python 3",
   "language": "python",
   "name": "python3"
  },
  "language_info": {
   "codemirror_mode": {
    "name": "ipython",
    "version": 3
   },
   "file_extension": ".py",
   "mimetype": "text/x-python",
   "name": "python",
   "nbconvert_exporter": "python",
   "pygments_lexer": "ipython3",
   "version": "3.11.13"
  },
  "papermill": {
   "default_parameters": {},
   "duration": 10.754114,
   "end_time": "2025-07-21T18:52:07.029228",
   "environment_variables": {},
   "exception": null,
   "input_path": "__notebook__.ipynb",
   "output_path": "__notebook__.ipynb",
   "parameters": {},
   "start_time": "2025-07-21T18:51:56.275114",
   "version": "2.6.0"
  }
 },
 "nbformat": 4,
 "nbformat_minor": 5
}
